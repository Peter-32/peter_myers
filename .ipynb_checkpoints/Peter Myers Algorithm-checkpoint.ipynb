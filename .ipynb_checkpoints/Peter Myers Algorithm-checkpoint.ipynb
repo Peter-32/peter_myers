{
 "cells": [
  {
   "cell_type": "code",
   "execution_count": 1,
   "metadata": {},
   "outputs": [
    {
     "name": "stdout",
     "output_type": "stream",
     "text": [
      "lightgbm is installed...but failed to load!\n"
     ]
    }
   ],
   "source": [
    "%load_ext pycodestyle_magic\n",
    "%load_ext autoreload\n",
    "%autoreload 2\n",
    "\n",
    "# Common imports\n",
    "import pandas as pd\n",
    "import numpy as np\n",
    "from sklearn.datasets import load_boston\n",
    "from sklearn.model_selection import train_test_split\n",
    "from sklearn.pipeline import Pipeline\n",
    "import shap\n",
    "\n",
    "# Import from my GitHub\n",
    "from getxgboostmodel.getxgboostmodel import get_xgboost_model\n",
    "from randomizedgridsearch.randomizedgridsearch import RandomizedGridSearch\n",
    "from transformers.transformers import *\n"
   ]
  },
  {
   "cell_type": "code",
   "execution_count": 10,
   "metadata": {},
   "outputs": [],
   "source": [
    "class MyCustomModel:\n",
    "    \n",
    "    def __init__(self, uses_xgboost=True): # in the future add many booleans not just this one\n",
    "        self.model = None\n",
    "    \n",
    "    def fit(self, train_X, train_y):\n",
    "        self.model = get_xgboost_model(train_X, train_y, quickly=True)\n",
    "        self.model.fit(train_X, train_y)\n",
    "\n",
    "    def predict(self, test_X, test_y):\n",
    "        self.model.predict(test_X, test_y)"
   ]
  },
  {
   "cell_type": "code",
   "execution_count": 14,
   "metadata": {},
   "outputs": [],
   "source": [
    "boston_data = load_boston()\n",
    "\n",
    "X = pd.DataFrame(boston_data['data']).copy().values\n",
    "y = pd.DataFrame(boston_data['target']).copy().values\n",
    "\n",
    "train_X, test_X, train_y, test_y = train_test_split(\n",
    "    X, y, test_size=0.20, random_state=42)\n",
    "train_X, test_X = train_X, test_X\n",
    "train_y, test_y = train_y.reshape(-1, 1), test_y.reshape(-1, 1)\n",
    "\n",
    "pipe = Pipeline([('standard_scaler', StandardScalerTransform()),\n",
    "                 ('min_max_scaler', MinMaxScalerTransform()),\n",
    "                 ('binarizer', BinarizerTransform()),                  \n",
    "                 ('model', MyCustomModel())])\n",
    "\n",
    "num_features = train_X.shape[1]\n",
    "default_priors = [0.05]*num_features\n",
    "\n",
    "param_distributions = {\n",
    "    'standard_scaler': default_priors,\n",
    "    'min_max_scaler': default_priors,\n",
    "    'binarizer': default_priors,\n",
    "    'model': [0.05],    \n",
    "}\n",
    "\n",
    "experiments_results = pd.DataFrame()"
   ]
  },
  {
   "cell_type": "code",
   "execution_count": 15,
   "metadata": {},
   "outputs": [
    {
     "ename": "KeyError",
     "evalue": "'scaler'",
     "output_type": "error",
     "traceback": [
      "\u001b[0;31m---------------------------------------------------------------------------\u001b[0m",
      "\u001b[0;31mKeyError\u001b[0m                                  Traceback (most recent call last)",
      "\u001b[0;32m<ipython-input-15-497bea2c000a>\u001b[0m in \u001b[0;36m<module>\u001b[0;34m\u001b[0m\n\u001b[1;32m      7\u001b[0m         \u001b[0mtest_X\u001b[0m\u001b[0;34m=\u001b[0m\u001b[0mtest_X\u001b[0m\u001b[0;34m,\u001b[0m\u001b[0;34m\u001b[0m\u001b[0m\n\u001b[1;32m      8\u001b[0m         \u001b[0mtest_y\u001b[0m\u001b[0;34m=\u001b[0m\u001b[0mtest_y\u001b[0m\u001b[0;34m,\u001b[0m\u001b[0;34m\u001b[0m\u001b[0m\n\u001b[0;32m----> 9\u001b[0;31m         scoring='neg_mean_squared_error')\n\u001b[0m\u001b[1;32m     10\u001b[0m \u001b[0mexperiments_results_temp\u001b[0m\u001b[0;34m\u001b[0m\u001b[0m\n",
      "\u001b[0;32m~/Desktop/Code/randomizedgridsearch/randomizedgridsearch.py\u001b[0m in \u001b[0;36mRandomizedGridSearch\u001b[0;34m(n_experiments, pipe, param_distributions, train_X, train_y, test_X, test_y, scoring)\u001b[0m\n\u001b[1;32m     30\u001b[0m \u001b[0;34m\u001b[0m\u001b[0m\n\u001b[1;32m     31\u001b[0m     \u001b[0;31m# num_features\u001b[0m\u001b[0;34m\u001b[0m\u001b[0;34m\u001b[0m\u001b[0m\n\u001b[0;32m---> 32\u001b[0;31m     \u001b[0mnum_features\u001b[0m \u001b[0;34m=\u001b[0m \u001b[0mlen\u001b[0m\u001b[0;34m(\u001b[0m\u001b[0mparam_distributions\u001b[0m\u001b[0;34m[\u001b[0m\u001b[0;34m'scaler'\u001b[0m\u001b[0;34m]\u001b[0m\u001b[0;34m)\u001b[0m\u001b[0;34m\u001b[0m\u001b[0m\n\u001b[0m\u001b[1;32m     33\u001b[0m \u001b[0;34m\u001b[0m\u001b[0m\n\u001b[1;32m     34\u001b[0m     \u001b[0;31m# Initialize scaler options\u001b[0m\u001b[0;34m\u001b[0m\u001b[0;34m\u001b[0m\u001b[0m\n",
      "\u001b[0;31mKeyError\u001b[0m: 'scaler'"
     ]
    }
   ],
   "source": [
    "experiments_results_temp = RandomizedGridSearch(\n",
    "        n_experiments=100,\n",
    "        pipe=pipe,\n",
    "        param_distributions=param_distributions,\n",
    "        train_X=train_X,\n",
    "        train_y=train_y,\n",
    "        test_X=test_X,\n",
    "        test_y=test_y,\n",
    "        scoring='neg_mean_squared_error')\n",
    "experiments_results_temp"
   ]
  },
  {
   "cell_type": "code",
   "execution_count": 13,
   "metadata": {},
   "outputs": [
    {
     "data": {
      "text/html": [
       "<div>\n",
       "<style scoped>\n",
       "    .dataframe tbody tr th:only-of-type {\n",
       "        vertical-align: middle;\n",
       "    }\n",
       "\n",
       "    .dataframe tbody tr th {\n",
       "        vertical-align: top;\n",
       "    }\n",
       "\n",
       "    .dataframe thead th {\n",
       "        text-align: right;\n",
       "    }\n",
       "</style>\n",
       "<table border=\"1\" class=\"dataframe\">\n",
       "  <thead>\n",
       "    <tr style=\"text-align: right;\">\n",
       "      <th></th>\n",
       "    </tr>\n",
       "  </thead>\n",
       "  <tbody>\n",
       "  </tbody>\n",
       "</table>\n",
       "</div>"
      ],
      "text/plain": [
       "Empty DataFrame\n",
       "Columns: []\n",
       "Index: []"
      ]
     },
     "execution_count": 13,
     "metadata": {},
     "output_type": "execute_result"
    }
   ],
   "source": [
    "experiments_results"
   ]
  },
  {
   "cell_type": "code",
   "execution_count": 7,
   "metadata": {},
   "outputs": [
    {
     "data": {
      "text/html": [
       "[0, 1, 2, 3, 4, 5, 6, 7, 8, 9, 10, 11, 12]"
      ],
      "text/plain": [
       "[0, 1, 2, 3, 4, 5, 6, 7, 8, 9, 10, 11, 12]"
      ]
     },
     "execution_count": 7,
     "metadata": {},
     "output_type": "execute_result"
    }
   ],
   "source": [
    "indices"
   ]
  },
  {
   "cell_type": "code",
   "execution_count": null,
   "metadata": {},
   "outputs": [],
   "source": []
  }
 ],
 "metadata": {
  "kernelspec": {
   "display_name": "commons",
   "language": "python",
   "name": "commons"
  },
  "language_info": {
   "codemirror_mode": {
    "name": "ipython",
    "version": 3
   },
   "file_extension": ".py",
   "mimetype": "text/x-python",
   "name": "python",
   "nbconvert_exporter": "python",
   "pygments_lexer": "ipython3",
   "version": "3.6.5"
  },
  "toc": {
   "base_numbering": 1,
   "nav_menu": {},
   "number_sections": true,
   "sideBar": true,
   "skip_h1_title": false,
   "title_cell": "Table of Contents",
   "title_sidebar": "Contents",
   "toc_cell": false,
   "toc_position": {},
   "toc_section_display": true,
   "toc_window_display": false
  }
 },
 "nbformat": 4,
 "nbformat_minor": 2
}
